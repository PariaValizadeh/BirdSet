{
 "cells": [
  {
   "cell_type": "markdown",
   "metadata": {},
   "source": [
    "# Train a RESNET model on the esc50 dataset"
   ]
  },
  {
   "cell_type": "markdown",
   "metadata": {},
   "source": [
    "## Imports"
   ]
  },
  {
   "cell_type": "code",
   "execution_count": 1,
   "metadata": {},
   "outputs": [
    {
     "name": "stdout",
     "output_type": "stream",
     "text": [
      "Current working directory: /workspaces/GADME\n"
     ]
    }
   ],
   "source": [
    "# change working directory to the root of the project\n",
    "import os\n",
    "os.chdir(\"../\")\n",
    "print(\"Current working directory: {0}\".format(os.getcwd()))"
   ]
  },
  {
   "cell_type": "code",
   "execution_count": 2,
   "metadata": {},
   "outputs": [],
   "source": [
    "# imports\n",
    "from omegaconf import OmegaConf\n",
    "import torchvision\n",
    "import torch\n",
    "import torchmetrics.classification\n",
    "\n",
    "from src.modules.base_module import BaseModule\n",
    "from src.datamodule.esc50_datamodule import ESC50DataModule\n",
    "from src.utils.ast_extractor import CustomASTFeatureExtractor\n"
   ]
  },
  {
   "cell_type": "markdown",
   "metadata": {},
   "source": [
    "## Datamodule"
   ]
  },
  {
   "cell_type": "code",
   "execution_count": 3,
   "metadata": {},
   "outputs": [],
   "source": [
    "esc50_config = OmegaConf.create({\n",
    "    \"dataset\": {\n",
    "        \"data_dir\": \"/workspaces/GADME/data\",\n",
    "        \"dataset_name\": \"esc50\",\n",
    "        \"hf_path\": \"ashraq/esc50\",\n",
    "        \"hf_name\": None,\n",
    "        \"seed\": 42,\n",
    "        \"feature_extractor\": {\n",
    "            \"_target_\": 'src.utils.ast_extractor.CustomASTFeatureExtractor',\n",
    "            \"n_classes\": 50,\n",
    "            \"n_workers\": 1,\n",
    "            \"column_list\": [\"input_values\", \"target\"],\n",
    "            \"sampling_rate\": 32000,\n",
    "            \"return_tensor\": 'pt',\n",
    "        },\n",
    "        \"n_classes\": 50,\n",
    "        \"n_workers\": 16,\n",
    "        \"column_list\": [\"input_values\", \"target\"],\n",
    "        \"val_split\": 0.2,\n",
    "    },\n",
    "    \"loaders\": {\n",
    "        \"train\": {\n",
    "            \"batch_size\": 64,\n",
    "            \"shuffle\": True,\n",
    "            \"num_workers\": 32,\n",
    "            \"drop_last\": False,\n",
    "            \"pin_memory\": False\n",
    "        },\n",
    "        \"valid\": {\n",
    "            \"batch_size\": 64,\n",
    "            \"shuffle\": False,\n",
    "            \"num_workers\": 32,\n",
    "            \"drop_last\": False,\n",
    "            \"pin_memory\": False\n",
    "        },\n",
    "        \"test\": {\n",
    "            \"batch_size\": 6,\n",
    "            \"shuffle\": False,\n",
    "            \"num_workers\": 4,\n",
    "            \"drop_last\": False,\n",
    "            \"pin_memory\": False\n",
    "        },\n",
    "    },\n",
    "    \"transforms\": {\n",
    "        \"use_channel_dim\": True,\n",
    "        \"normalize\": True,\n",
    "        \"use_spectrogram\": True,\n",
    "        \"n_fft\": 1024,\n",
    "        \"hop_length\": 79,\n",
    "        \"n_mels\": 128,\n",
    "        \"db_scale\": True,\n",
    "        \"target_height\": 32,\n",
    "        \"target_width\": 32,\n",
    "        \"waveform_augmentations\": {\n",
    "            \"colored_noise\": {\n",
    "                \"prob\": 0.5,\n",
    "                \"min_snr_in_db\": 3.0,\n",
    "                \"max_snr_in_db\": 30.0,\n",
    "                \"min_f_decay\": -2.0,\n",
    "                \"max_f_decay\": 2.0\n",
    "            },\n",
    "        },\n",
    "        \"spectrogram_augmentations\": {\n",
    "            \"time_masking\": {\n",
    "                \"time_mask_param\": 100,\n",
    "                \"prob\": 0.5\n",
    "            },\n",
    "            \"frequency_masking\": {\n",
    "                \"freq_mask_param\": 100,\n",
    "                \"prob\": 0.5\n",
    "            },\n",
    "            \"time_stretch\": {\n",
    "                \"prob\": 0.5,\n",
    "                \"min_rate\": 0.8,\n",
    "                \"max_rate\": 1.2\n",
    "            },\n",
    "        },\n",
    "    },\n",
    "})"
   ]
  },
  {
   "cell_type": "code",
   "execution_count": 4,
   "metadata": {},
   "outputs": [],
   "source": [
    "esc50_datamodule = ESC50(dataset=esc50_config.dataset, loaders=esc50_config.loaders, transforms=esc50_config.transforms)"
   ]
  },
  {
   "cell_type": "code",
   "execution_count": 6,
   "metadata": {},
   "outputs": [
    {
     "name": "stderr",
     "output_type": "stream",
     "text": [
      "Repo card metadata block was not found. Setting CardData to empty.\n",
      "WARNING:huggingface_hub.repocard:Repo card metadata block was not found. Setting CardData to empty.\n"
     ]
    },
    {
     "data": {
      "application/vnd.jupyter.widget-view+json": {
       "model_id": "c83167f7b7c64016b05ee3ee69f7877e",
       "version_major": 2,
       "version_minor": 0
      },
      "text/plain": [
       "Map (num_proc=16):   0%|          | 0/2000 [00:00<?, ? examples/s]"
      ]
     },
     "metadata": {},
     "output_type": "display_data"
    },
    {
     "data": {
      "application/vnd.jupyter.widget-view+json": {
       "model_id": "7adf3f277a334f6699ef3de170b57040",
       "version_major": 2,
       "version_minor": 0
      },
      "text/plain": [
       "Saving the dataset (0/3 shards):   0%|          | 0/1600 [00:00<?, ? examples/s]"
      ]
     },
     "metadata": {},
     "output_type": "display_data"
    },
    {
     "data": {
      "application/vnd.jupyter.widget-view+json": {
       "model_id": "0d7b622ca2ad4890aa715ab82ce87559",
       "version_major": 2,
       "version_minor": 0
      },
      "text/plain": [
       "Saving the dataset (0/1 shards):   0%|          | 0/200 [00:00<?, ? examples/s]"
      ]
     },
     "metadata": {},
     "output_type": "display_data"
    },
    {
     "data": {
      "application/vnd.jupyter.widget-view+json": {
       "model_id": "b3dc29890a2949eda9c94495aeecb098",
       "version_major": 2,
       "version_minor": 0
      },
      "text/plain": [
       "Saving the dataset (0/1 shards):   0%|          | 0/200 [00:00<?, ? examples/s]"
      ]
     },
     "metadata": {},
     "output_type": "display_data"
    }
   ],
   "source": [
    "esc50_datamodule.prepare_data()"
   ]
  },
  {
   "cell_type": "code",
   "execution_count": 7,
   "metadata": {},
   "outputs": [],
   "source": [
    "esc50_datamodule.setup(stage=\"fit\") "
   ]
  },
  {
   "cell_type": "code",
   "execution_count": 8,
   "metadata": {},
   "outputs": [],
   "source": [
    "train_dataloader = esc50_datamodule.train_dataloader()\n",
    "batch = next(iter(train_dataloader))"
   ]
  },
  {
   "cell_type": "code",
   "execution_count": 9,
   "metadata": {},
   "outputs": [
    {
     "data": {
      "text/plain": [
       "{'input_values': tensor([[[[-0.4242, -0.5108, -0.6174,  ..., -0.2411, -0.2952, -0.3647],\n",
       "           [ 0.1609,  0.0743, -0.0323,  ...,  0.3440,  0.2899,  0.2204],\n",
       "           [-0.7541, -0.5598, -0.4347,  ..., -0.2641, -0.3076, -0.3736],\n",
       "           ...,\n",
       "           [-2.5490, -2.5220, -2.5560,  ..., -2.7624, -3.1527, -3.6184],\n",
       "           [-2.9962, -3.0530, -3.1338,  ..., -2.9499, -3.3529, -3.7612],\n",
       "           [-2.9616, -3.0482, -3.1176,  ..., -2.8773, -2.8945, -2.9963]]],\n",
       " \n",
       " \n",
       "         [[[-0.3415, -1.0215, -0.8468,  ...,  0.5165,  0.6284,  0.7023],\n",
       "           [ 0.2436, -0.4365, -0.2617,  ...,  1.1016,  1.2134,  1.2874],\n",
       "           [ 0.6746,  0.6111,  0.6183,  ...,  1.4499,  1.4971,  1.5270],\n",
       "           ...,\n",
       "           [ 0.3689,  0.2501,  0.1967,  ...,  0.3796,  0.2013,  0.2110],\n",
       "           [ 0.5670,  0.4106,  0.3994,  ...,  0.2499,  0.3034,  0.5419],\n",
       "           [ 0.7061,  0.6130,  0.4017,  ...,  0.9191,  0.9129,  0.9609]]],\n",
       " \n",
       " \n",
       "         [[[-6.9831, -6.9831, -6.9831,  ..., -2.6262, -2.6357, -2.7338],\n",
       "           [-6.9831, -6.9831, -6.9831,  ..., -2.0411, -2.0507, -2.1487],\n",
       "           [-6.9831, -6.9831, -6.9831,  ..., -1.7868, -1.7030, -1.7334],\n",
       "           ...,\n",
       "           [-6.9831, -6.9831, -6.9831,  ..., -2.5290, -2.5475, -2.5043],\n",
       "           [-6.9831, -6.9831, -6.9831,  ..., -2.4299, -2.2828, -2.1212],\n",
       "           [-6.9831, -6.9831, -6.9831,  ..., -1.7587, -1.7336, -1.7097]]],\n",
       " \n",
       " \n",
       "         ...,\n",
       " \n",
       " \n",
       "         [[[-4.0260, -4.0260, -4.0260,  ..., -4.0260, -4.0260, -4.0260],\n",
       "           [-4.0260, -4.0260, -4.0260,  ..., -4.0260, -4.0260, -4.0260],\n",
       "           [-4.0260, -4.0260, -4.0260,  ..., -4.0260, -4.0260, -4.0260],\n",
       "           ...,\n",
       "           [-4.0260, -4.0260, -4.0260,  ..., -4.0260, -4.0260, -4.0260],\n",
       "           [-4.0260, -4.0260, -4.0260,  ..., -4.0260, -4.0260, -4.0260],\n",
       "           [-4.0260, -4.0260, -4.0260,  ..., -4.0260, -4.0260, -4.0260]]],\n",
       " \n",
       " \n",
       "         [[[ 3.3612,  3.4484,  3.5285,  ...,  2.8140,  2.8296,  2.8224],\n",
       "           [ 3.9462,  4.0334,  4.1136,  ...,  3.3991,  3.4147,  3.4074],\n",
       "           [ 2.3793,  2.7097,  2.8003,  ...,  1.4541,  1.5172,  1.5532],\n",
       "           ...,\n",
       "           [-0.2238, -0.3772, -0.5142,  ...,  0.1482, -0.0231, -0.1622],\n",
       "           [-0.0153, -0.2283, -0.4303,  ...,  0.5266,  0.5834,  0.5452],\n",
       "           [-0.1429, -0.6549, -1.0182,  ...,  1.0290,  0.9506,  0.7779]]],\n",
       " \n",
       " \n",
       "         [[[-0.1945, -0.1601, -0.0789,  ...,  0.6807,  0.5770,  0.4485],\n",
       "           [ 0.3906,  0.4249,  0.5061,  ...,  1.2658,  1.1621,  1.0336],\n",
       "           [ 0.2300,  0.1604, -0.0657,  ..., -0.4769, -0.3475, -0.1564],\n",
       "           ...,\n",
       "           [ 0.3435,  0.2901,  0.1245,  ..., -2.5871, -2.4285, -2.1921],\n",
       "           [ 0.3708,  0.3107,  0.1244,  ..., -1.4848, -1.4347, -1.3834],\n",
       "           [ 0.5440,  0.5022,  0.3822,  ..., -1.3139, -1.2579, -1.2400]]]]),\n",
       " 'labels': tensor([38, 45, 23, 39,  2, 28, 42, 41, 37, 38, 46, 45,  8, 36, 31, 47, 46,  7,\n",
       "          5, 42,  9, 27,  7, 29, 22, 14, 33, 26, 38,  9,  0,  1, 23,  0,  6,  3,\n",
       "         29, 32, 49, 18,  2,  2, 37,  9, 32, 16, 41,  8, 21, 26, 24, 11, 43,  0,\n",
       "         38, 23, 14, 14, 43, 34, 39, 20, 27, 27])}"
      ]
     },
     "execution_count": 9,
     "metadata": {},
     "output_type": "execute_result"
    }
   ],
   "source": [
    "batch"
   ]
  },
  {
   "cell_type": "code",
   "execution_count": 10,
   "metadata": {},
   "outputs": [
    {
     "data": {
      "text/plain": [
       "torch.Size([64, 1, 32, 32])"
      ]
     },
     "execution_count": 10,
     "metadata": {},
     "output_type": "execute_result"
    }
   ],
   "source": [
    "batch['input_values'].shape"
   ]
  },
  {
   "cell_type": "code",
   "execution_count": 11,
   "metadata": {},
   "outputs": [
    {
     "data": {
      "text/plain": [
       "torch.Size([64])"
      ]
     },
     "execution_count": 11,
     "metadata": {},
     "output_type": "execute_result"
    }
   ],
   "source": [
    "batch['labels'].shape"
   ]
  },
  {
   "cell_type": "code",
   "execution_count": 15,
   "metadata": {},
   "outputs": [
    {
     "data": {
      "text/plain": [
       "<matplotlib.image.AxesImage at 0x7fe4c8737910>"
      ]
     },
     "execution_count": 15,
     "metadata": {},
     "output_type": "execute_result"
    },
    {
     "data": {
      "image/png": "[encoded data removed]",
      "text/plain": [
       "<Figure size 640x480 with 1 Axes>"
      ]
     },
     "metadata": {},
     "output_type": "display_data"
    }
   ],
   "source": [
    "# plot the first spectrogram\n",
    "import matplotlib.pyplot as plt\n",
    "plt.imshow(batch['input_values'][1].squeeze().numpy())\n"
   ]
  },
  {
   "cell_type": "markdown",
   "metadata": {},
   "source": [
    "## Lightning Module"
   ]
  },
  {
   "cell_type": "code",
   "execution_count": 16,
   "metadata": {},
   "outputs": [],
   "source": [
    "len_trainset = len(esc50_datamodule.train_dataset)\n",
    "module_config = OmegaConf.create({\n",
    "    \"network\": {\n",
    "        \"model_name\": \"resnet50\",\n",
    "        \"model\": {\n",
    "            \"_target_\": 'src.modules.models.resnet.ResNetClassifier',\n",
    "            \"baseline_architecture\": 'resnet18',\n",
    "            \"num_classes\": 50,\n",
    "            \"num_channels\": 1,\n",
    "            \"pretrained\": True,\n",
    "        },\n",
    "        \"torch_compile\": False\n",
    "    },\n",
    "    \"output_activation\": {\n",
    "        \"_target_\": 'torch.softmax',\n",
    "        \"dim\": 1\n",
    "    },\n",
    "    \"loss\": {\n",
    "        \"_target_\": 'torch.nn.CrossEntropyLoss'\n",
    "    },\n",
    "    \"optimizer\": {\n",
    "        \"_target_\": 'torch.optim.Adam',\n",
    "        \"lr\": 0.001,\n",
    "        \"weight_decay\": 0.01\n",
    "    },\n",
    "    \"lr_scheduler\": {\n",
    "        \"_target_\": 'torch.optim.lr_scheduler',\n",
    "    },\n",
    "    \"metrics\": {\n",
    "        \"main\": {\n",
    "            \"_target_\": 'torchmetrics.classification.Accuracy',\n",
    "            \"task\": \"multiclass\",\n",
    "            \"num_classes\": 50,\n",
    "            \"top_k\": 1,\n",
    "        },\n",
    "        \"val_best\": {   \n",
    "            \"_target_\": 'torchmetrics.MaxMetric',\n",
    "        }\n",
    "    },\n",
    "    \"num_epochs\": 200,\n",
    "    \"logging_params\": {\n",
    "        \"on_step\": False,\n",
    "        \"on_epoch\": True,\n",
    "        \"sync_dist\": False,\n",
    "        \"prog_bar\": True,\n",
    "    },\n",
    "    \"len_trainset\": len_trainset\n",
    "})"
   ]
  },
  {
   "cell_type": "code",
   "execution_count": 17,
   "metadata": {},
   "outputs": [],
   "source": [
    "resnetModule = BaseModule(\n",
    "    network=module_config.network,\n",
    "    output_activation= module_config.output_activation,\n",
    "    loss=module_config.loss,\n",
    "    optimizer=module_config.optimizer,\n",
    "    lr_scheduler=module_config.lr_scheduler,\n",
    "    metrics=module_config.metrics,\n",
    "    logging_params=module_config.logging_params,\n",
    "    num_epochs=module_config.num_epochs,\n",
    "    len_trainset=module_config.len_trainset\n",
    ")\n",
    "    "
   ]
  },
  {
   "cell_type": "code",
   "execution_count": 18,
   "metadata": {},
   "outputs": [
    {
     "data": {
      "text/plain": [
       "BaseModule(\n",
       "  (model): ResNetClassifier(\n",
       "    (model): ResNet(\n",
       "      (conv1): Conv2d(1, 64, kernel_size=(7, 7), stride=(2, 2), padding=(3, 3), bias=False)\n",
       "      (bn1): BatchNorm2d(64, eps=1e-05, momentum=0.1, affine=True, track_running_stats=True)\n",
       "      (relu): ReLU(inplace=True)\n",
       "      (maxpool): MaxPool2d(kernel_size=3, stride=2, padding=1, dilation=1, ceil_mode=False)\n",
       "      (layer1): Sequential(\n",
       "        (0): BasicBlock(\n",
       "          (conv1): Conv2d(64, 64, kernel_size=(3, 3), stride=(1, 1), padding=(1, 1), bias=False)\n",
       "          (bn1): BatchNorm2d(64, eps=1e-05, momentum=0.1, affine=True, track_running_stats=True)\n",
       "          (relu): ReLU(inplace=True)\n",
       "          (conv2): Conv2d(64, 64, kernel_size=(3, 3), stride=(1, 1), padding=(1, 1), bias=False)\n",
       "          (bn2): BatchNorm2d(64, eps=1e-05, momentum=0.1, affine=True, track_running_stats=True)\n",
       "        )\n",
       "        (1): BasicBlock(\n",
       "          (conv1): Conv2d(64, 64, kernel_size=(3, 3), stride=(1, 1), padding=(1, 1), bias=False)\n",
       "          (bn1): BatchNorm2d(64, eps=1e-05, momentum=0.1, affine=True, track_running_stats=True)\n",
       "          (relu): ReLU(inplace=True)\n",
       "          (conv2): Conv2d(64, 64, kernel_size=(3, 3), stride=(1, 1), padding=(1, 1), bias=False)\n",
       "          (bn2): BatchNorm2d(64, eps=1e-05, momentum=0.1, affine=True, track_running_stats=True)\n",
       "        )\n",
       "      )\n",
       "      (layer2): Sequential(\n",
       "        (0): BasicBlock(\n",
       "          (conv1): Conv2d(64, 128, kernel_size=(3, 3), stride=(2, 2), padding=(1, 1), bias=False)\n",
       "          (bn1): BatchNorm2d(128, eps=1e-05, momentum=0.1, affine=True, track_running_stats=True)\n",
       "          (relu): ReLU(inplace=True)\n",
       "          (conv2): Conv2d(128, 128, kernel_size=(3, 3), stride=(1, 1), padding=(1, 1), bias=False)\n",
       "          (bn2): BatchNorm2d(128, eps=1e-05, momentum=0.1, affine=True, track_running_stats=True)\n",
       "          (downsample): Sequential(\n",
       "            (0): Conv2d(64, 128, kernel_size=(1, 1), stride=(2, 2), bias=False)\n",
       "            (1): BatchNorm2d(128, eps=1e-05, momentum=0.1, affine=True, track_running_stats=True)\n",
       "          )\n",
       "        )\n",
       "        (1): BasicBlock(\n",
       "          (conv1): Conv2d(128, 128, kernel_size=(3, 3), stride=(1, 1), padding=(1, 1), bias=False)\n",
       "          (bn1): BatchNorm2d(128, eps=1e-05, momentum=0.1, affine=True, track_running_stats=True)\n",
       "          (relu): ReLU(inplace=True)\n",
       "          (conv2): Conv2d(128, 128, kernel_size=(3, 3), stride=(1, 1), padding=(1, 1), bias=False)\n",
       "          (bn2): BatchNorm2d(128, eps=1e-05, momentum=0.1, affine=True, track_running_stats=True)\n",
       "        )\n",
       "      )\n",
       "      (layer3): Sequential(\n",
       "        (0): BasicBlock(\n",
       "          (conv1): Conv2d(128, 256, kernel_size=(3, 3), stride=(2, 2), padding=(1, 1), bias=False)\n",
       "          (bn1): BatchNorm2d(256, eps=1e-05, momentum=0.1, affine=True, track_running_stats=True)\n",
       "          (relu): ReLU(inplace=True)\n",
       "          (conv2): Conv2d(256, 256, kernel_size=(3, 3), stride=(1, 1), padding=(1, 1), bias=False)\n",
       "          (bn2): BatchNorm2d(256, eps=1e-05, momentum=0.1, affine=True, track_running_stats=True)\n",
       "          (downsample): Sequential(\n",
       "            (0): Conv2d(128, 256, kernel_size=(1, 1), stride=(2, 2), bias=False)\n",
       "            (1): BatchNorm2d(256, eps=1e-05, momentum=0.1, affine=True, track_running_stats=True)\n",
       "          )\n",
       "        )\n",
       "        (1): BasicBlock(\n",
       "          (conv1): Conv2d(256, 256, kernel_size=(3, 3), stride=(1, 1), padding=(1, 1), bias=False)\n",
       "          (bn1): BatchNorm2d(256, eps=1e-05, momentum=0.1, affine=True, track_running_stats=True)\n",
       "          (relu): ReLU(inplace=True)\n",
       "          (conv2): Conv2d(256, 256, kernel_size=(3, 3), stride=(1, 1), padding=(1, 1), bias=False)\n",
       "          (bn2): BatchNorm2d(256, eps=1e-05, momentum=0.1, affine=True, track_running_stats=True)\n",
       "        )\n",
       "      )\n",
       "      (layer4): Sequential(\n",
       "        (0): BasicBlock(\n",
       "          (conv1): Conv2d(256, 512, kernel_size=(3, 3), stride=(2, 2), padding=(1, 1), bias=False)\n",
       "          (bn1): BatchNorm2d(512, eps=1e-05, momentum=0.1, affine=True, track_running_stats=True)\n",
       "          (relu): ReLU(inplace=True)\n",
       "          (conv2): Conv2d(512, 512, kernel_size=(3, 3), stride=(1, 1), padding=(1, 1), bias=False)\n",
       "          (bn2): BatchNorm2d(512, eps=1e-05, momentum=0.1, affine=True, track_running_stats=True)\n",
       "          (downsample): Sequential(\n",
       "            (0): Conv2d(256, 512, kernel_size=(1, 1), stride=(2, 2), bias=False)\n",
       "            (1): BatchNorm2d(512, eps=1e-05, momentum=0.1, affine=True, track_running_stats=True)\n",
       "          )\n",
       "        )\n",
       "        (1): BasicBlock(\n",
       "          (conv1): Conv2d(512, 512, kernel_size=(3, 3), stride=(1, 1), padding=(1, 1), bias=False)\n",
       "          (bn1): BatchNorm2d(512, eps=1e-05, momentum=0.1, affine=True, track_running_stats=True)\n",
       "          (relu): ReLU(inplace=True)\n",
       "          (conv2): Conv2d(512, 512, kernel_size=(3, 3), stride=(1, 1), padding=(1, 1), bias=False)\n",
       "          (bn2): BatchNorm2d(512, eps=1e-05, momentum=0.1, affine=True, track_running_stats=True)\n",
       "        )\n",
       "      )\n",
       "      (avgpool): AdaptiveAvgPool2d(output_size=(1, 1))\n",
       "      (fc): Linear(in_features=512, out_features=50, bias=True)\n",
       "    )\n",
       "  )\n",
       "  (loss): CrossEntropyLoss()\n",
       "  (train_metric): MulticlassAccuracy()\n",
       "  (train_add_metrics): MetricCollection,\n",
       "    postfix=/train\n",
       "  )\n",
       "  (valid_metric): MulticlassAccuracy()\n",
       "  (valid_metric_best): MaxMetric()\n",
       "  (valid_add_metrics): MetricCollection,\n",
       "    postfix=/valid\n",
       "  )\n",
       "  (test_metric): MulticlassAccuracy()\n",
       "  (test_add_metrics): MetricCollection,\n",
       "    postfix=/test\n",
       "  )\n",
       ")"
      ]
     },
     "execution_count": 18,
     "metadata": {},
     "output_type": "execute_result"
    }
   ],
   "source": [
    "resnetModule"
   ]
  },
  {
   "cell_type": "markdown",
   "metadata": {},
   "source": [
    "## Training"
   ]
  },
  {
   "cell_type": "code",
   "execution_count": 19,
   "metadata": {},
   "outputs": [
    {
     "name": "stderr",
     "output_type": "stream",
     "text": [
      "GPU available: True (cuda), used: True\n",
      "TPU available: False, using: 0 TPU cores\n",
      "IPU available: False, using: 0 IPUs\n",
      "HPU available: False, using: 0 HPUs\n",
      "You are using a CUDA device ('NVIDIA A100 80GB PCIe') that has Tensor Cores. To properly utilize them, you should set `torch.set_float32_matmul_precision('medium' | 'high')` which will trade-off precision for performance. For more details, read https://pytorch.org/docs/stable/generated/torch.set_float32_matmul_precision.html#torch.set_float32_matmul_precision\n",
      "LOCAL_RANK: 0 - CUDA_VISIBLE_DEVICES: [0,1,2]\n",
      "\n",
      "  | Name              | Type               | Params\n",
      "---------------------------------------------------------\n",
      "0 | model             | ResNetClassifier   | 11.2 M\n",
      "1 | loss              | CrossEntropyLoss   | 0     \n",
      "2 | train_metric      | MulticlassAccuracy | 0     \n",
      "3 | train_add_metrics | MetricCollection   | 0     \n",
      "4 | valid_metric      | MulticlassAccuracy | 0     \n",
      "5 | valid_metric_best | MaxMetric          | 0     \n",
      "6 | valid_add_metrics | MetricCollection   | 0     \n",
      "7 | test_metric       | MulticlassAccuracy | 0     \n",
      "8 | test_add_metrics  | MetricCollection   | 0     \n",
      "---------------------------------------------------------\n",
      "11.2 M    Trainable params\n",
      "0         Non-trainable params\n",
      "11.2 M    Total params\n",
      "44.784    Total estimated model params size (MB)\n"
     ]
    },
    {
     "data": {
      "application/vnd.jupyter.widget-view+json": {
       "model_id": "a0c289739c5a4a3386e5664f2e9c7566",
       "version_major": 2,
       "version_minor": 0
      },
      "text/plain": [
       "Sanity Checking: |          | 0/? [00:00<?, ?it/s]"
      ]
     },
     "metadata": {},
     "output_type": "display_data"
    },
    {
     "data": {
      "application/vnd.jupyter.widget-view+json": {
       "model_id": "e80c2cdf71c14d0c8c2d51934a92b5ff",
       "version_major": 2,
       "version_minor": 0
      },
      "text/plain": [
       "Training: |          | 0/? [00:00<?, ?it/s]"
      ]
     },
     "metadata": {},
     "output_type": "display_data"
    },
    {
     "name": "stdout",
     "output_type": "stream",
     "text": [
      "LEARNING RATE 0.001\n",
      "LEARNING RATE 0.001\n",
      "LEARNING RATE 0.001\n",
      "LEARNING RATE 0.001\n",
      "LEARNING RATE 0.001\n",
      "LEARNING RATE 0.001\n",
      "LEARNING RATE 0.001\n",
      "LEARNING RATE 0.001\n",
      "LEARNING RATE 0.001\n",
      "LEARNING RATE 0.001\n",
      "LEARNING RATE 0.001\n",
      "LEARNING RATE 0.001\n",
      "LEARNING RATE 0.001\n",
      "LEARNING RATE 0.001\n",
      "LEARNING RATE 0.001\n",
      "LEARNING RATE 0.001\n",
      "LEARNING RATE 0.001\n",
      "LEARNING RATE 0.001\n",
      "LEARNING RATE 0.001\n",
      "LEARNING RATE 0.001\n",
      "LEARNING RATE 0.001\n",
      "LEARNING RATE 0.001\n",
      "LEARNING RATE 0.001\n",
      "LEARNING RATE 0.001\n",
      "LEARNING RATE 0.001\n"
     ]
    },
    {
     "data": {
      "application/vnd.jupyter.widget-view+json": {
       "model_id": "5b70664f346b4500b0e0949aae354dd4",
       "version_major": 2,
       "version_minor": 0
      },
      "text/plain": [
       "Validation: |          | 0/? [00:00<?, ?it/s]"
      ]
     },
     "metadata": {},
     "output_type": "display_data"
    },
    {
     "name": "stdout",
     "output_type": "stream",
     "text": [
      "LEARNING RATE 0.001\n",
      "LEARNING RATE 0.001\n",
      "LEARNING RATE 0.001\n",
      "LEARNING RATE 0.001\n",
      "LEARNING RATE 0.001\n",
      "LEARNING RATE 0.001\n",
      "LEARNING RATE 0.001\n",
      "LEARNING RATE 0.001\n",
      "LEARNING RATE 0.001\n",
      "LEARNING RATE 0.001\n",
      "LEARNING RATE 0.001\n",
      "LEARNING RATE 0.001\n",
      "LEARNING RATE 0.001\n",
      "LEARNING RATE 0.001\n",
      "LEARNING RATE 0.001\n",
      "LEARNING RATE 0.001\n",
      "LEARNING RATE 0.001\n",
      "LEARNING RATE 0.001\n",
      "LEARNING RATE 0.001\n",
      "LEARNING RATE 0.001\n",
      "LEARNING RATE 0.001\n",
      "LEARNING RATE 0.001\n",
      "LEARNING RATE 0.001\n",
      "LEARNING RATE 0.001\n",
      "LEARNING RATE 0.001\n"
     ]
    },
    {
     "data": {
      "application/vnd.jupyter.widget-view+json": {
       "model_id": "7d5fb1780b9c4a7593527e9828bdb143",
       "version_major": 2,
       "version_minor": 0
      },
      "text/plain": [
       "Validation: |          | 0/? [00:00<?, ?it/s]"
      ]
     },
     "metadata": {},
     "output_type": "display_data"
    },
    {
     "name": "stdout",
     "output_type": "stream",
     "text": [
      "LEARNING RATE 0.001\n",
      "LEARNING RATE 0.001\n",
      "LEARNING RATE 0.001\n",
      "LEARNING RATE 0.001\n",
      "LEARNING RATE 0.001\n",
      "LEARNING RATE 0.001\n",
      "LEARNING RATE 0.001\n",
      "LEARNING RATE 0.001\n",
      "LEARNING RATE 0.001\n",
      "LEARNING RATE 0.001\n",
      "LEARNING RATE 0.001\n",
      "LEARNING RATE 0.001\n",
      "LEARNING RATE 0.001\n",
      "LEARNING RATE 0.001\n",
      "LEARNING RATE 0.001\n",
      "LEARNING RATE 0.001\n",
      "LEARNING RATE 0.001\n",
      "LEARNING RATE 0.001\n",
      "LEARNING RATE 0.001\n",
      "LEARNING RATE 0.001\n",
      "LEARNING RATE 0.001\n",
      "LEARNING RATE 0.001\n",
      "LEARNING RATE 0.001\n",
      "LEARNING RATE 0.001\n",
      "LEARNING RATE 0.001\n"
     ]
    },
    {
     "data": {
      "application/vnd.jupyter.widget-view+json": {
       "model_id": "11565cde543f49b0aa85ee043eba8a75",
       "version_major": 2,
       "version_minor": 0
      },
      "text/plain": [
       "Validation: |          | 0/? [00:00<?, ?it/s]"
      ]
     },
     "metadata": {},
     "output_type": "display_data"
    },
    {
     "name": "stdout",
     "output_type": "stream",
     "text": [
      "LEARNING RATE 0.001\n",
      "LEARNING RATE 0.001\n",
      "LEARNING RATE 0.001\n",
      "LEARNING RATE 0.001\n",
      "LEARNING RATE 0.001\n",
      "LEARNING RATE 0.001\n",
      "LEARNING RATE 0.001\n",
      "LEARNING RATE 0.001\n",
      "LEARNING RATE 0.001\n",
      "LEARNING RATE 0.001\n",
      "LEARNING RATE 0.001\n",
      "LEARNING RATE 0.001\n",
      "LEARNING RATE 0.001\n",
      "LEARNING RATE 0.001\n",
      "LEARNING RATE 0.001\n",
      "LEARNING RATE 0.001\n",
      "LEARNING RATE 0.001\n",
      "LEARNING RATE 0.001\n",
      "LEARNING RATE 0.001\n",
      "LEARNING RATE 0.001\n",
      "LEARNING RATE 0.001\n",
      "LEARNING RATE 0.001\n",
      "LEARNING RATE 0.001\n",
      "LEARNING RATE 0.001\n",
      "LEARNING RATE 0.001\n"
     ]
    },
    {
     "data": {
      "application/vnd.jupyter.widget-view+json": {
       "model_id": "712daf1cabc047398e664e73ab96d862",
       "version_major": 2,
       "version_minor": 0
      },
      "text/plain": [
       "Validation: |          | 0/? [00:00<?, ?it/s]"
      ]
     },
     "metadata": {},
     "output_type": "display_data"
    },
    {
     "name": "stdout",
     "output_type": "stream",
     "text": [
      "LEARNING RATE 0.001\n",
      "LEARNING RATE 0.001\n",
      "LEARNING RATE 0.001\n",
      "LEARNING RATE 0.001\n",
      "LEARNING RATE 0.001\n",
      "LEARNING RATE 0.001\n",
      "LEARNING RATE 0.001\n",
      "LEARNING RATE 0.001\n",
      "LEARNING RATE 0.001\n",
      "LEARNING RATE 0.001\n",
      "LEARNING RATE 0.001\n",
      "LEARNING RATE 0.001\n",
      "LEARNING RATE 0.001\n",
      "LEARNING RATE 0.001\n",
      "LEARNING RATE 0.001\n",
      "LEARNING RATE 0.001\n",
      "LEARNING RATE 0.001\n",
      "LEARNING RATE 0.001\n",
      "LEARNING RATE 0.001\n",
      "LEARNING RATE 0.001\n",
      "LEARNING RATE 0.001\n",
      "LEARNING RATE 0.001\n",
      "LEARNING RATE 0.001\n",
      "LEARNING RATE 0.001\n",
      "LEARNING RATE 0.001\n"
     ]
    },
    {
     "data": {
      "application/vnd.jupyter.widget-view+json": {
       "model_id": "4d2e0f112bf84eb0809b74b0fcf8c651",
       "version_major": 2,
       "version_minor": 0
      },
      "text/plain": [
       "Validation: |          | 0/? [00:00<?, ?it/s]"
      ]
     },
     "metadata": {},
     "output_type": "display_data"
    },
    {
     "name": "stdout",
     "output_type": "stream",
     "text": [
      "LEARNING RATE 0.001\n",
      "LEARNING RATE 0.001\n",
      "LEARNING RATE 0.001\n",
      "LEARNING RATE 0.001\n",
      "LEARNING RATE 0.001\n",
      "LEARNING RATE 0.001\n",
      "LEARNING RATE 0.001\n",
      "LEARNING RATE 0.001\n",
      "LEARNING RATE 0.001\n",
      "LEARNING RATE 0.001\n",
      "LEARNING RATE 0.001\n",
      "LEARNING RATE 0.001\n",
      "LEARNING RATE 0.001\n",
      "LEARNING RATE 0.001\n",
      "LEARNING RATE 0.001\n",
      "LEARNING RATE 0.001\n",
      "LEARNING RATE 0.001\n",
      "LEARNING RATE 0.001\n",
      "LEARNING RATE 0.001\n",
      "LEARNING RATE 0.001\n",
      "LEARNING RATE 0.001\n",
      "LEARNING RATE 0.001\n",
      "LEARNING RATE 0.001\n",
      "LEARNING RATE 0.001\n",
      "LEARNING RATE 0.001\n"
     ]
    },
    {
     "data": {
      "application/vnd.jupyter.widget-view+json": {
       "model_id": "8369f292a3f9449790da2c7731de579b",
       "version_major": 2,
       "version_minor": 0
      },
      "text/plain": [
       "Validation: |          | 0/? [00:00<?, ?it/s]"
      ]
     },
     "metadata": {},
     "output_type": "display_data"
    },
    {
     "name": "stdout",
     "output_type": "stream",
     "text": [
      "LEARNING RATE 0.001\n",
      "LEARNING RATE 0.001\n",
      "LEARNING RATE 0.001\n",
      "LEARNING RATE 0.001\n",
      "LEARNING RATE 0.001\n",
      "LEARNING RATE 0.001\n",
      "LEARNING RATE 0.001\n",
      "LEARNING RATE 0.001\n",
      "LEARNING RATE 0.001\n",
      "LEARNING RATE 0.001\n",
      "LEARNING RATE 0.001\n",
      "LEARNING RATE 0.001\n",
      "LEARNING RATE 0.001\n",
      "LEARNING RATE 0.001\n",
      "LEARNING RATE 0.001\n",
      "LEARNING RATE 0.001\n",
      "LEARNING RATE 0.001\n",
      "LEARNING RATE 0.001\n",
      "LEARNING RATE 0.001\n",
      "LEARNING RATE 0.001\n",
      "LEARNING RATE 0.001\n",
      "LEARNING RATE 0.001\n",
      "LEARNING RATE 0.001\n",
      "LEARNING RATE 0.001\n",
      "LEARNING RATE 0.001\n"
     ]
    },
    {
     "data": {
      "application/vnd.jupyter.widget-view+json": {
       "model_id": "74d0a63d5855453ebff7e283c042b3d0",
       "version_major": 2,
       "version_minor": 0
      },
      "text/plain": [
       "Validation: |          | 0/? [00:00<?, ?it/s]"
      ]
     },
     "metadata": {},
     "output_type": "display_data"
    },
    {
     "name": "stdout",
     "output_type": "stream",
     "text": [
      "LEARNING RATE 0.001\n",
      "LEARNING RATE 0.001\n",
      "LEARNING RATE 0.001\n",
      "LEARNING RATE 0.001\n",
      "LEARNING RATE 0.001\n",
      "LEARNING RATE 0.001\n",
      "LEARNING RATE 0.001\n",
      "LEARNING RATE 0.001\n",
      "LEARNING RATE 0.001\n",
      "LEARNING RATE 0.001\n",
      "LEARNING RATE 0.001\n",
      "LEARNING RATE 0.001\n",
      "LEARNING RATE 0.001\n",
      "LEARNING RATE 0.001\n",
      "LEARNING RATE 0.001\n",
      "LEARNING RATE 0.001\n",
      "LEARNING RATE 0.001\n",
      "LEARNING RATE 0.001\n",
      "LEARNING RATE 0.001\n",
      "LEARNING RATE 0.001\n",
      "LEARNING RATE 0.001\n",
      "LEARNING RATE 0.001\n",
      "LEARNING RATE 0.001\n",
      "LEARNING RATE 0.001\n",
      "LEARNING RATE 0.001\n"
     ]
    },
    {
     "data": {
      "application/vnd.jupyter.widget-view+json": {
       "model_id": "9b997566d4e44c06bfb7ab135b44bb4e",
       "version_major": 2,
       "version_minor": 0
      },
      "text/plain": [
       "Validation: |          | 0/? [00:00<?, ?it/s]"
      ]
     },
     "metadata": {},
     "output_type": "display_data"
    },
    {
     "name": "stdout",
     "output_type": "stream",
     "text": [
      "LEARNING RATE 0.001\n",
      "LEARNING RATE 0.001\n",
      "LEARNING RATE 0.001\n",
      "LEARNING RATE 0.001\n",
      "LEARNING RATE 0.001\n",
      "LEARNING RATE 0.001\n",
      "LEARNING RATE 0.001\n",
      "LEARNING RATE 0.001\n",
      "LEARNING RATE 0.001\n",
      "LEARNING RATE 0.001\n",
      "LEARNING RATE 0.001\n",
      "LEARNING RATE 0.001\n",
      "LEARNING RATE 0.001\n",
      "LEARNING RATE 0.001\n",
      "LEARNING RATE 0.001\n",
      "LEARNING RATE 0.001\n",
      "LEARNING RATE 0.001\n",
      "LEARNING RATE 0.001\n",
      "LEARNING RATE 0.001\n",
      "LEARNING RATE 0.001\n",
      "LEARNING RATE 0.001\n",
      "LEARNING RATE 0.001\n",
      "LEARNING RATE 0.001\n",
      "LEARNING RATE 0.001\n",
      "LEARNING RATE 0.001\n"
     ]
    },
    {
     "data": {
      "application/vnd.jupyter.widget-view+json": {
       "model_id": "c2f0d025709a4e33936b91754044756b",
       "version_major": 2,
       "version_minor": 0
      },
      "text/plain": [
       "Validation: |          | 0/? [00:00<?, ?it/s]"
      ]
     },
     "metadata": {},
     "output_type": "display_data"
    },
    {
     "name": "stdout",
     "output_type": "stream",
     "text": [
      "LEARNING RATE 0.001\n",
      "LEARNING RATE 0.001\n",
      "LEARNING RATE 0.001\n",
      "LEARNING RATE 0.001\n",
      "LEARNING RATE 0.001\n",
      "LEARNING RATE 0.001\n",
      "LEARNING RATE 0.001\n",
      "LEARNING RATE 0.001\n",
      "LEARNING RATE 0.001\n",
      "LEARNING RATE 0.001\n",
      "LEARNING RATE 0.001\n",
      "LEARNING RATE 0.001\n",
      "LEARNING RATE 0.001\n",
      "LEARNING RATE 0.001\n",
      "LEARNING RATE 0.001\n",
      "LEARNING RATE 0.001\n",
      "LEARNING RATE 0.001\n",
      "LEARNING RATE 0.001\n",
      "LEARNING RATE 0.001\n",
      "LEARNING RATE 0.001\n",
      "LEARNING RATE 0.001\n",
      "LEARNING RATE 0.001\n",
      "LEARNING RATE 0.001\n",
      "LEARNING RATE 0.001\n",
      "LEARNING RATE 0.001\n"
     ]
    },
    {
     "data": {
      "application/vnd.jupyter.widget-view+json": {
       "model_id": "d557f96590da458f8b0e2b4fabc2ccea",
       "version_major": 2,
       "version_minor": 0
      },
      "text/plain": [
       "Validation: |          | 0/? [00:00<?, ?it/s]"
      ]
     },
     "metadata": {},
     "output_type": "display_data"
    },
    {
     "name": "stderr",
     "output_type": "stream",
     "text": [
      "`Trainer.fit` stopped: `max_epochs=10` reached.\n"
     ]
    }
   ],
   "source": [
    "from lightning import Trainer\n",
    "trainer = Trainer(max_epochs=10, devices=1)\n",
    "trainer.fit(resnetModule, esc50_datamodule)"
   ]
  },
  {
   "cell_type": "code",
   "execution_count": 20,
   "metadata": {},
   "outputs": [
    {
     "name": "stderr",
     "output_type": "stream",
     "text": [
      "LOCAL_RANK: 0 - CUDA_VISIBLE_DEVICES: [0,1,2]\n"
     ]
    },
    {
     "data": {
      "application/vnd.jupyter.widget-view+json": {
       "model_id": "ff2e9cbd88894c4e88b7a065d5940f1a",
       "version_major": 2,
       "version_minor": 0
      },
      "text/plain": [
       "Testing: |          | 0/? [00:00<?, ?it/s]"
      ]
     },
     "metadata": {},
     "output_type": "display_data"
    },
    {
     "data": {
      "text/html": [
       "<pre style=\"white-space:pre;overflow-x:auto;line-height:normal;font-family:Menlo,'DejaVu Sans Mono',consolas,'Courier New',monospace\">┏━━━━━━━━━━━━━━━━━━━━━━━━━━━┳━━━━━━━━━━━━━━━━━━━━━━━━━━━┓\n",
       "┃<span style=\"font-weight: bold\">        Test metric        </span>┃<span style=\"font-weight: bold\">       DataLoader 0        </span>┃\n",
       "┡━━━━━━━━━━━━━━━━━━━━━━━━━━━╇━━━━━━━━━━━━━━━━━━━━━━━━━━━┩\n",
       "│<span style=\"color: #008080; text-decoration-color: #008080\">  test_MulticlassAccuracy  </span>│<span style=\"color: #800080; text-decoration-color: #800080\">    0.08500000089406967    </span>│\n",
       "│<span style=\"color: #008080; text-decoration-color: #008080\">         test_loss         </span>│<span style=\"color: #800080; text-decoration-color: #800080\">    3.5904812812805176     </span>│\n",
       "└───────────────────────────┴───────────────────────────┘\n",
       "</pre>\n"
      ],
      "text/plain": [
       "┏━━━━━━━━━━━━━━━━━━━━━━━━━━━┳━━━━━━━━━━━━━━━━━━━━━━━━━━━┓\n",
       "┃\u001b[1m \u001b[0m\u001b[1m       Test metric       \u001b[0m\u001b[1m \u001b[0m┃\u001b[1m \u001b[0m\u001b[1m      DataLoader 0       \u001b[0m\u001b[1m \u001b[0m┃\n",
       "┡━━━━━━━━━━━━━━━━━━━━━━━━━━━╇━━━━━━━━━━━━━━━━━━━━━━━━━━━┩\n",
       "│\u001b[36m \u001b[0m\u001b[36m test_MulticlassAccuracy \u001b[0m\u001b[36m \u001b[0m│\u001b[35m \u001b[0m\u001b[35m   0.08500000089406967   \u001b[0m\u001b[35m \u001b[0m│\n",
       "│\u001b[36m \u001b[0m\u001b[36m        test_loss        \u001b[0m\u001b[36m \u001b[0m│\u001b[35m \u001b[0m\u001b[35m   3.5904812812805176    \u001b[0m\u001b[35m \u001b[0m│\n",
       "└───────────────────────────┴───────────────────────────┘\n"
      ]
     },
     "metadata": {},
     "output_type": "display_data"
    },
    {
     "data": {
      "text/plain": [
       "[{'test_loss': 3.5904812812805176,\n",
       "  'test_MulticlassAccuracy': 0.08500000089406967}]"
      ]
     },
     "execution_count": 20,
     "metadata": {},
     "output_type": "execute_result"
    }
   ],
   "source": [
    "trainer.test(resnetModule, esc50_datamodule)"
   ]
  }
 ],
 "metadata": {
  "kernelspec": {
   "display_name": "gadme-zu58s5te-py3.10",
   "language": "python",
   "name": "python3"
  },
  "language_info": {
   "codemirror_mode": {
    "name": "ipython",
    "version": 3
   },
   "file_extension": ".py",
   "mimetype": "text/x-python",
   "name": "python",
   "nbconvert_exporter": "python",
   "pygments_lexer": "ipython3",
   "version": "3.10.12"
  }
 },
 "nbformat": 4,
 "nbformat_minor": 2
}
